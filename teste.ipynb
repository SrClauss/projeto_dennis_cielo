{
 "cells": [
  {
   "cell_type": "code",
   "execution_count": 7,
   "metadata": {},
   "outputs": [],
   "source": [
    "from selenium import webdriver\n",
    "from selenium.webdriver.common.keys import Keys\n",
    "from selenium.webdriver.common.by import By\n",
    "from selenium.webdriver.support.ui import WebDriverWait\n",
    "from selenium.webdriver.support import expected_conditions as EC\n",
    "from selenium.webdriver.common.action_chains import ActionChains\n",
    "import openpyxl\n",
    "from time import sleep\n",
    "from datetime import datetime, timedelta\n",
    "from concurrent.futures import ThreadPoolExecutor, as_completed\n",
    "import json\n",
    "import requests\n",
    "import undetected_chromedriver as uc"
   ]
  },
  {
   "cell_type": "code",
   "execution_count": 8,
   "metadata": {},
   "outputs": [],
   "source": [
    "with open(\"config.json\", \"r\") as file:\n",
    "    config = json.load(file)\n",
    "LOGIN = config[\"login\"]\n",
    "SENHA = config[\"senha\"]\n",
    "URL = config[\"url\"]\n",
    "estabelecimentos_vazios = []\n",
    "errors = []\n"
   ]
  },
  {
   "cell_type": "code",
   "execution_count": 9,
   "metadata": {},
   "outputs": [],
   "source": [
    "from cielo import login\n",
    "\n",
    "driver = login()\n"
   ]
  },
  {
   "cell_type": "code",
   "execution_count": 10,
   "metadata": {},
   "outputs": [],
   "source": [
    "pesquisar_estabelecimentos = WebDriverWait(driver, 10).until(EC.element_to_be_clickable((By.XPATH, '//*[@placeholder=\"Pesquisar estabelecimentos\"]')))\n",
    "pesquisar_estabelecimentos.click()\n",
    "ActionChains(driver).key_down(Keys.CONTROL).send_keys(\"a\").key_up(Keys.CONTROL).perform()\n",
    "ActionChains(driver).send_keys(Keys.BACKSPACE).perform()\n",
    "ActionChains(driver).send_keys(\"1028791230\").perform()\n",
    "ActionChains(driver).send_keys(Keys.ENTER).perform()"
   ]
  },
  {
   "cell_type": "code",
   "execution_count": 13,
   "metadata": {},
   "outputs": [],
   "source": [
    "list_item = WebDriverWait(driver, 10).until(EC.presence_of_all_elements_located((By.CLASS_NAME, \"list-item\")))\n",
    "cnpj = list_item[0].text.split(\"\\n\")[-1]\n",
    "list_item[0].click()\n",
    "button_acessar = WebDriverWait(driver, 10).until(EC.element_to_be_clickable((By.XPATH, '//*[text()=\"Acessar\"]')))\n",
    "button_acessar.click()\n",
    "sleep(0.5)"
   ]
  },
  {
   "cell_type": "code",
   "execution_count": 14,
   "metadata": {},
   "outputs": [],
   "source": [
    "driver.get(\"https://minhaconta2.cielo.com.br/site/vendas/resumo/cielo\")"
   ]
  },
  {
   "cell_type": "code",
   "execution_count": 16,
   "metadata": {},
   "outputs": [
    {
     "data": {
      "text/plain": [
       "[<selenium.webdriver.remote.webelement.WebElement (session=\"2ed95cb053ab61696ae24cb9cc7ca4b7\", element=\"f.3B4092D53310B69726E7132303DC4423.d.19A46C469EE44B3DC0CD05D3D25F19EF.e.190\")>,\n",
       " <selenium.webdriver.remote.webelement.WebElement (session=\"2ed95cb053ab61696ae24cb9cc7ca4b7\", element=\"f.3B4092D53310B69726E7132303DC4423.d.19A46C469EE44B3DC0CD05D3D25F19EF.e.191\")>,\n",
       " <selenium.webdriver.remote.webelement.WebElement (session=\"2ed95cb053ab61696ae24cb9cc7ca4b7\", element=\"f.3B4092D53310B69726E7132303DC4423.d.19A46C469EE44B3DC0CD05D3D25F19EF.e.192\")>,\n",
       " <selenium.webdriver.remote.webelement.WebElement (session=\"2ed95cb053ab61696ae24cb9cc7ca4b7\", element=\"f.3B4092D53310B69726E7132303DC4423.d.19A46C469EE44B3DC0CD05D3D25F19EF.e.193\")>,\n",
       " <selenium.webdriver.remote.webelement.WebElement (session=\"2ed95cb053ab61696ae24cb9cc7ca4b7\", element=\"f.3B4092D53310B69726E7132303DC4423.d.19A46C469EE44B3DC0CD05D3D25F19EF.e.194\")>,\n",
       " <selenium.webdriver.remote.webelement.WebElement (session=\"2ed95cb053ab61696ae24cb9cc7ca4b7\", element=\"f.3B4092D53310B69726E7132303DC4423.d.19A46C469EE44B3DC0CD05D3D25F19EF.e.195\")>,\n",
       " <selenium.webdriver.remote.webelement.WebElement (session=\"2ed95cb053ab61696ae24cb9cc7ca4b7\", element=\"f.3B4092D53310B69726E7132303DC4423.d.19A46C469EE44B3DC0CD05D3D25F19EF.e.196\")>,\n",
       " <selenium.webdriver.remote.webelement.WebElement (session=\"2ed95cb053ab61696ae24cb9cc7ca4b7\", element=\"f.3B4092D53310B69726E7132303DC4423.d.19A46C469EE44B3DC0CD05D3D25F19EF.e.197\")>,\n",
       " <selenium.webdriver.remote.webelement.WebElement (session=\"2ed95cb053ab61696ae24cb9cc7ca4b7\", element=\"f.3B4092D53310B69726E7132303DC4423.d.19A46C469EE44B3DC0CD05D3D25F19EF.e.198\")>,\n",
       " <selenium.webdriver.remote.webelement.WebElement (session=\"2ed95cb053ab61696ae24cb9cc7ca4b7\", element=\"f.3B4092D53310B69726E7132303DC4423.d.19A46C469EE44B3DC0CD05D3D25F19EF.e.199\")>,\n",
       " <selenium.webdriver.remote.webelement.WebElement (session=\"2ed95cb053ab61696ae24cb9cc7ca4b7\", element=\"f.3B4092D53310B69726E7132303DC4423.d.19A46C469EE44B3DC0CD05D3D25F19EF.e.200\")>,\n",
       " <selenium.webdriver.remote.webelement.WebElement (session=\"2ed95cb053ab61696ae24cb9cc7ca4b7\", element=\"f.3B4092D53310B69726E7132303DC4423.d.19A46C469EE44B3DC0CD05D3D25F19EF.e.201\")>,\n",
       " <selenium.webdriver.remote.webelement.WebElement (session=\"2ed95cb053ab61696ae24cb9cc7ca4b7\", element=\"f.3B4092D53310B69726E7132303DC4423.d.19A46C469EE44B3DC0CD05D3D25F19EF.e.202\")>]"
      ]
     },
     "execution_count": 16,
     "metadata": {},
     "output_type": "execute_result"
    }
   ],
   "source": [
    "h1s = WebDriverWait(driver, 10).until(EC.presence_of_all_elements_located((By.TAG_NAME, \"h1\")))\n",
    "h1s"
   ]
  }
 ],
 "metadata": {
  "kernelspec": {
   "display_name": "Python 3",
   "language": "python",
   "name": "python3"
  },
  "language_info": {
   "codemirror_mode": {
    "name": "ipython",
    "version": 3
   },
   "file_extension": ".py",
   "mimetype": "text/x-python",
   "name": "python",
   "nbconvert_exporter": "python",
   "pygments_lexer": "ipython3",
   "version": "3.12.3"
  }
 },
 "nbformat": 4,
 "nbformat_minor": 2
}
